{
 "cells": [
  {
   "cell_type": "markdown",
   "metadata": {},
   "source": [
    "# 前瞻\n",
    "+ 空间域处理分为两种：强度变换和空间卷积。强度变换对图像的单个像素进行操作，例如：对比度处理和图像阈值处理等；空间卷积对图像的每个像素的邻域进行操作，例如图像平滑和图像锐化等。\n",
    "## 读完收获\n",
    "+ Understand the meaning of spatial domain processing, and how it differs from transform domain processing. \n",
    "+ Be familiar with the principal techniques used for intensity transformations. \n",
    "+ Understand the physical meaning of image histograms and how they can be manipulated for image enhancement. \n",
    "+ Understand the mechanics of spatial filtering, and how spatial filters are formed. \n",
    "+ Understand the principles of spatial convolution and correlation. \n",
    "+ Be familiar with the principal types of spatial filters, and how they are applied. \n",
    "+ Be aware of the relationships between spatial filters, and the fundamental role of lowpass filters. \n",
    "+ Understand the principles of fuzzy logic and how these principles apply to digital image processing."
   ]
  },
  {
   "cell_type": "markdown",
   "metadata": {},
   "source": [
    "# 3.1 基本的强度变换函数\n",
    "+ 线性转换(图像反转和恒等变换)\n",
    "$$s=L-1-r$$  \n",
    "\n",
    "图像反转可以增强图像暗色区域中的白色或者灰色细节。\n",
    "+ 对数变换(对数和反对数变换)\n",
    "$$s=clog(1+r)$$\n",
    "\n",
    "将输入中**范围较窄**的低强度值映射为输出中范围较宽的强度值(如图[0,L/4]->[0,3L/4])，**高强度值**映射为范围较窄的强度值。而**反对数变换**恰好相反。\n",
    "+ 幂率变换(n次幂和n次根变换)\n",
    "$$s=cr^\\gamma$$\n",
    "\n",
    "<div align=center><img src=./img/Chapter03/1.png></div>\n"
   ]
  }
 ],
 "metadata": {
  "kernelspec": {
   "display_name": "Python 3.6.2 ('pytorch')",
   "language": "python",
   "name": "python3"
  },
  "language_info": {
   "name": "python",
   "version": "3.6.2"
  },
  "orig_nbformat": 4,
  "vscode": {
   "interpreter": {
    "hash": "1be8e1e697be24aa51be46f7515f4d96c6005120fc689094ce96895b044c9b1b"
   }
  }
 },
 "nbformat": 4,
 "nbformat_minor": 2
}
