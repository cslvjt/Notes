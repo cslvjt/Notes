{
 "cells": [
  {
   "cell_type": "markdown",
   "metadata": {},
   "source": [
    "# preview\n",
    "第二章主要介绍本书将用到的数字图像处理的概念。\n",
    "+ 2.1 人类视觉系统\n",
    "+ 2.2 讨论光线\n",
    "+ 2.3 图像传感器以及它们如何产生数字图像\n",
    "+ 2.4 介绍图像采样和图像量化的概念以及空间分辨率和灰度分辨率。（重要）\n",
    "+ 2.5 处理像素之间的各种关系\n",
    "+ 2.6 介绍用到的数学工具，例如：卷积"
   ]
  },
  {
   "cell_type": "markdown",
   "metadata": {},
   "source": [
    "# 读完收获\n",
    "+ Have an understanding of some important functions and limitations of human vision. \n",
    "+ Be familiar with the electromagnetic energy spectrum, including basic properties of light. \n",
    "+ Know how digital images are generated and represented. Understand the basics of image sampling and quantization. \n",
    "+ Be familiar with spatial and intensity resolution and their effects on image appearance. \n",
    "+ Have an understanding of basic geometric relationships between image pixels. \n",
    "+ Be familiar with the principal mathematical tools used in digital image processing. \n",
    "+ Be able to apply a variety of introductory digital image processing techniques."
   ]
  },
  {
   "cell_type": "markdown",
   "metadata": {},
   "source": [
    "# 2.4 图像采样和量化"
   ]
  },
  {
   "cell_type": "markdown",
   "metadata": {},
   "source": [
    "+ 为什么需要量化和采样？\n",
    "  为了生成数字图像，我们需要将感光单元连续感应的数据转换为数字格式。这需要两个过程：采样和量化。\n",
    "+ 什么是采样和量化？\n",
    "  <div align=center>\n",
    "  <img src=./img/Chapter02/1.png width=70%>\n",
    "  \n",
    "  \n",
    "  图a：连续的感光图像，图b：AB线上的灰度图，图c：采样过程，图d：量化\n",
    "  </div>\n",
    "  数字化坐标称为采样（x轴）\n",
    "  \n",
    "  数字化振幅成为量化（y轴）\n"
   ]
  },
  {
   "cell_type": "markdown",
   "metadata": {},
   "source": [
    "+ 图像系统的动态范围定义为最大可测量强度与系统中最小可检测强度水平的比率。通常，上限是由饱和度和下限确定的\n",
    "+ 我们将图像中最高强度和最低强度之间的强度差异定义图像对比度"
   ]
  },
  {
   "cell_type": "markdown",
   "metadata": {},
   "source": [
    "释义：\n",
    "+ 图像灰度(image grayscale)：把白色与黑色之间按对数关系分为若干等级，称为灰度。灰度分为256阶。用灰度表示的图像称作灰度图。\n",
    "\n",
    "+ 图象亮度(image brightness)：指画面的明亮程度，单位是堪德拉每平米(cd/m2)或称nits。图象亮度是从白色表面到黑色表面的感觉连续体，由反射系数决定，亮度侧重物体，重在“反射”。\n",
    "在灰度图像中，亮度等于灰度，图像运算处理方式相同，但是在彩色图像中，亮度和对比度相关，即通过对RGB颜色分量的增加（增加亮度）或减少（减少亮度）相同的增量来显示，亮度的调整就是给每个分量乘以一个百分比值。\n",
    "\n",
    "+ 图像强度(image intensity)：表示单通道图像像素的强度（值的大小）。\n",
    "在灰度图像中，它是图像的灰度。\n",
    "在RGB颜色空间中，可以理解把它为是R通道的像素灰度值，G通道的像素灰度值，或是B通道的像素灰度值，也就是RGB中含三个image intensity。\n",
    "\n",
    "原文链接：https://blog.csdn.net/zhuiqiuzhuoyue583/article/details/106825456"
   ]
  },
  {
   "cell_type": "markdown",
   "metadata": {},
   "source": [
    "### 空间分辨率和灰度分辨率"
   ]
  },
  {
   "cell_type": "markdown",
   "metadata": {},
   "source": [
    "### 空间分辨率\n",
    "空间分辨率是图像空间中最小的细节的量度\n",
    "常见的的表示方法\n",
    "+ 单位距离线对\n",
    "+ 单位距离的点数（像素）\n",
    "### 强度分辨率\n",
    "图像强度的最小分辨度\n",
    "用bit表示。例如8bit，256个level"
   ]
  },
  {
   "cell_type": "markdown",
   "metadata": {},
   "source": [
    "### 图像插值"
   ]
  },
  {
   "cell_type": "markdown",
   "metadata": {},
   "source": [
    "为了使图像内插（缩放）到指定的分辨率，我们需要采取一些插值策略来进行缩放后相应位置颜色的计算。\n",
    "\n",
    "插值缩放的原理是**基于目标分辨率中的点**，将其按照缩放关系对应到源图像中，寻找源图像中的点（不一定是整像素点），然后通过源图像中的相关点插值得到目标点。"
   ]
  },
  {
   "cell_type": "markdown",
   "metadata": {},
   "source": [
    "+ 最邻近插值算法\n",
    "目标图像通过缩放系数，计算缩放后的坐标在原图像中的空间位置(x,y)，计算离位置(x,y)最近的整数坐标点，并以此位置的颜色作为目标点的颜色。\n",
    "+ 双线性插值\n",
    "目标图像通过缩放系数，计算缩放后的坐标在原图像中的位置(x,y)，使用离(x,y)最近的4个点的像素进行插值得到输出，使用的线性插值的方法，对(x,y)两个方向进行像素插值。\n",
    "<div align=center>\n",
    "<img src=./img/Chapter02/2.jpg width=50%>\n",
    "<img src=./img/Chapter02/3.png width=50%>\n",
    "</div>\n",
    "\n"
   ]
  },
  {
   "cell_type": "markdown",
   "metadata": {},
   "source": [
    "# 2.6 需要的数学知识"
   ]
  },
  {
   "cell_type": "markdown",
   "metadata": {},
   "source": [
    "+ 线性代数\n",
    "+ 概率论\n",
    "+ 统计学"
   ]
  },
  {
   "cell_type": "markdown",
   "metadata": {},
   "source": [
    "## 几何变换"
   ]
  },
  {
   "cell_type": "markdown",
   "metadata": {},
   "source": [
    "<div align=cecnter>\n",
    "<img src=./img/Chapter02/4.png>\n",
    "</div>"
   ]
  }
 ],
 "metadata": {
  "kernelspec": {
   "display_name": "Python 3.6.2 ('pytorch')",
   "language": "python",
   "name": "python3"
  },
  "language_info": {
   "name": "python",
   "version": "3.6.2"
  },
  "orig_nbformat": 4,
  "vscode": {
   "interpreter": {
    "hash": "1be8e1e697be24aa51be46f7515f4d96c6005120fc689094ce96895b044c9b1b"
   }
  }
 },
 "nbformat": 4,
 "nbformat_minor": 2
}
