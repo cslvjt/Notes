{
 "cells": [
  {
   "cell_type": "markdown",
   "metadata": {},
   "source": [
    "# preview\n",
    "第二章主要介绍本书将用到的数字图像处理的概念。\n",
    "+ 2.1 人类视觉系统\n",
    "+ 2.2 讨论光线\n",
    "+ 2.3 图像传感器以及它们如何产生数字图像\n",
    "+ 2.4 介绍图像采样和图像量化的概念以及空间分辨率和灰度分辨率。（重要）\n",
    "+ 2.5 处理像素之间的各种关系\n",
    "+ 2.6 介绍用到的数学工具，例如：卷积"
   ]
  },
  {
   "cell_type": "markdown",
   "metadata": {},
   "source": [
    "# 读完收获\n",
    "+ Have an understanding of some important functions and limitations of human vision. \n",
    "+ Be familiar with the electromagnetic energy spectrum, including basic properties of light. \n",
    "+ Know how digital images are generated and represented. Understand the basics of image sampling and quantization. \n",
    "+ Be familiar with spatial and intensity resolution and their effects on image appearance. \n",
    "+ Have an understanding of basic geometric relationships between image pixels. \n",
    "+ Be familiar with the principal mathematical tools used in digital image processing. \n",
    "+ Be able to apply a variety of introductory digital image processing techniques."
   ]
  }
 ],
 "metadata": {
  "language_info": {
   "name": "python"
  },
  "orig_nbformat": 4
 },
 "nbformat": 4,
 "nbformat_minor": 2
}
