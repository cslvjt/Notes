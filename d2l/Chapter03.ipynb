{
 "cells": [
  {
   "cell_type": "markdown",
   "metadata": {},
   "source": [
    "# 线性神经网络"
   ]
  },
  {
   "cell_type": "markdown",
   "metadata": {},
   "source": [
    "## 3.1 线性回归\n",
    "<div align=center>\n",
    "<img src=./img/chapter03/1.jpg >\n",
    "</div>"
   ]
  },
  {
   "cell_type": "code",
   "execution_count": null,
   "metadata": {},
   "outputs": [],
   "source": [
    "import torch\n",
    "import random\n",
    "def synthetic_data(w,b,num_examples):\n",
    "    x=torch.normal(0,1,(num_examples,len(w)))\n",
    "    y=torch.matmul(x,w)+b\n",
    "    y+=torch.normal(0,0.01,y.shape)\n",
    "    return x,y.reshape((-1,1))\n",
    "\n",
    "def data_iter(batch_size, features, labels): \n",
    "    num_examples = len(features) \n",
    "    indices = list(range(num_examples)) \n",
    "    # 这些样本是随机读取的，没有特定的顺序 \n",
    "    random.shuffle(indices) \n",
    "    for i in range(0, num_examples, batch_size): \n",
    "        batch_indices = torch.tensor( indices[i: min(i + batch_size, num_examples)]) \n",
    "        yield features[batch_indices], labels[batch_indices]\n",
    "\n",
    "true_w=torch.tensor([2,-3.4])\n",
    "true_b=torch.tensor(4.2)\n",
    "\n",
    "def net(X,w,b):\n",
    "    return torch.matmul(X,w)+b\n",
    "def loss(y_hat,y):\n",
    "    return(y_hat-y.reshape(y_hat.shape))**2/2\n",
    "def sgd(params,lr,batchszie):\n",
    "    with torch.no_grad():\n",
    "        for param in params:\n",
    "            param-=lr*param.grad/batchszie\n",
    "            param.grad.zero_()\n",
    "def train():\n",
    "    lr=0.01\n",
    "    num_epochs=10\n",
    "    w = torch.normal(0, 0.01, size=(2,1), requires_grad=True) \n",
    "    b = torch.zeros(1, requires_grad=True)\n",
    "    batchsize=10\n",
    "    feature,labels=synthetic_data(true_w,true_b,1000)\n",
    "    for epoch in range(num_epochs):\n",
    "        for X,y in data_iter(batchsize,feature,labels):\n",
    "            l=loss(net(X,w,b),y)\n",
    "            l.sum().backward()\n",
    "            sgd([w,b],lr,batchsize)\n",
    "        print(f'epoch{epoch+1},loss{loss(net(feature,w,b),labels).mean():f}')\n",
    "\n",
    "train()"
   ]
  }
 ],
 "metadata": {
  "kernelspec": {
   "display_name": "Python 3.6.2 ('pytorch')",
   "language": "python",
   "name": "python3"
  },
  "language_info": {
   "codemirror_mode": {
    "name": "ipython",
    "version": 3
   },
   "file_extension": ".py",
   "mimetype": "text/x-python",
   "name": "python",
   "nbconvert_exporter": "python",
   "pygments_lexer": "ipython3",
   "version": "3.6.2"
  },
  "orig_nbformat": 4,
  "vscode": {
   "interpreter": {
    "hash": "1be8e1e697be24aa51be46f7515f4d96c6005120fc689094ce96895b044c9b1b"
   }
  }
 },
 "nbformat": 4,
 "nbformat_minor": 2
}
