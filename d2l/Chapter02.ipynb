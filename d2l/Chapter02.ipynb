{
 "cells": [
  {
   "cell_type": "markdown",
   "metadata": {},
   "source": [
    "# 2.1数据操作"
   ]
  },
  {
   "cell_type": "code",
   "execution_count": 2,
   "metadata": {},
   "outputs": [
    {
     "data": {
      "text/plain": [
       "torch.Size([3, 4])"
      ]
     },
     "execution_count": 2,
     "metadata": {},
     "output_type": "execute_result"
    }
   ],
   "source": [
    "import torch\n",
    "x=torch.arange(12)\n",
    "#x.shape\n",
    "\n",
    "X=x.reshape(3,4)  #未知维度上赋为-1，可以自动计算\n",
    "X.shape\n",
    "\n",
    "torch.zeros((1,2,3,4)) #张量形状为（1，2，3，4），值为0\n",
    "\n",
    "x=torch.randn((1,3,256,256))"
   ]
  },
  {
   "cell_type": "code",
   "execution_count": 12,
   "metadata": {},
   "outputs": [
    {
     "data": {
      "text/plain": [
       "tensor([[2, 4],\n",
       "        [6, 8],\n",
       "        [1, 3],\n",
       "        [5, 7]])"
      ]
     },
     "execution_count": 12,
     "metadata": {},
     "output_type": "execute_result"
    }
   ],
   "source": [
    "x=torch.tensor([2,4,6,8]).reshape(2,-1)\n",
    "y=torch.tensor([1,3,5,7]).reshape(-1,2)\n",
    "\n",
    "# x+y,x-y,x*y,x/y,x**y ,torch.exp(x)#这些都是按元素操作\n",
    "\n",
    "torch.cat((x,y),dim=0)#在轴一拼接\n",
    "torch.cat((x,y),dim=1)\n",
    "\n",
    "x==y #返回矩阵，x，y值相同处为true\n",
    "\n",
    "x.sum()# 元素求和"
   ]
  },
  {
   "cell_type": "markdown",
   "metadata": {},
   "source": [
    "广播机制：首先，通过适当复制元素来扩展一个或两个数组，以便在转换之后，两个张量具有相同的形状。其次，对生成的数组执行按元素操作"
   ]
  },
  {
   "cell_type": "code",
   "execution_count": 13,
   "metadata": {},
   "outputs": [
    {
     "data": {
      "text/plain": [
       "tensor([[0, 1],\n",
       "        [1, 2],\n",
       "        [2, 3]])"
      ]
     },
     "execution_count": 13,
     "metadata": {},
     "output_type": "execute_result"
    }
   ],
   "source": [
    "x=torch.arange(3).reshape((3,1))\n",
    "y=torch.arange(2).reshape((1,2))\n",
    "x+y\n",
    "\"\"\"\n",
    "x--->\n",
    "[[0,0],\n",
    " [1,1],\n",
    " [2,2]]\n",
    "y--->\n",
    "[[0,1],\n",
    " [0,1],\n",
    " [0,1]]\n",
    "\"\"\""
   ]
  },
  {
   "cell_type": "markdown",
   "metadata": {},
   "source": [
    "各种数据转换"
   ]
  },
  {
   "cell_type": "code",
   "execution_count": null,
   "metadata": {},
   "outputs": [],
   "source": [
    "#numpy互转tensor\n",
    "X=torch.randn((1,3,256,256))\n",
    "A=X.numpy()\n",
    "B=torch.tensor(A)"
   ]
  },
  {
   "cell_type": "markdown",
   "metadata": {},
   "source": [
    "# 矩阵求导"
   ]
  },
  {
   "cell_type": "markdown",
   "metadata": {},
   "source": [
    "<div align=center>\n",
    "<img src=./img/chapter02/1.png >\n",
    "</div>\n",
    "<div align=center>\n",
    "<img src=./img/chapter02/2.png >\n",
    "</div>"
   ]
  }
 ],
 "metadata": {
  "kernelspec": {
   "display_name": "Python 3.6.2 ('pytorch')",
   "language": "python",
   "name": "python3"
  },
  "language_info": {
   "codemirror_mode": {
    "name": "ipython",
    "version": 3
   },
   "file_extension": ".py",
   "mimetype": "text/x-python",
   "name": "python",
   "nbconvert_exporter": "python",
   "pygments_lexer": "ipython3",
   "version": "3.6.2"
  },
  "orig_nbformat": 4,
  "vscode": {
   "interpreter": {
    "hash": "1be8e1e697be24aa51be46f7515f4d96c6005120fc689094ce96895b044c9b1b"
   }
  }
 },
 "nbformat": 4,
 "nbformat_minor": 2
}
