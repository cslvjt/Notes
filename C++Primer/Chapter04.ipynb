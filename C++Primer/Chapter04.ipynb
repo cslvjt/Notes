{
 "cells": [
  {
   "cell_type": "markdown",
   "metadata": {},
   "source": [
    "# 前瞻\n",
    "+ 创建和使用数组\n",
    "+ 创建和使用C风格字符串\n",
    "+ 创建和使用string类字符串\n",
    "+ 使用方法getline()和get()读取字符串\n",
    "+ 混合输入字符串和数字\n",
    "+ 创建和使用结构体、共用体、枚举、指针\n",
    "+ 使用new和delete管理动态内存\n",
    "+ 创建动态数组、动态结构\n",
    "+ 自动存储、静态存储和动态存储\n",
    "+ vector和array类简介"
   ]
  },
  {
   "cell_type": "markdown",
   "metadata": {},
   "source": [
    "# 4.1 数组\n",
    "+ 数组声明格式:```typeName arrayName[arraysiez]```，arraysize必须是整型常数、const值和常量表达式，即所有值在编译时是已知的。\n",
    "+ 数组初始化规定：\n",
    "  1. 只能定义是进行初始化\n",
    "  2. 不能将一个数组赋值给另一个数组"
   ]
  },
  {
   "cell_type": "markdown",
   "metadata": {},
   "source": [
    "# 4.2 字符串\n",
    "C++处理字符串的方式有两种。第一种是C风格字符串，另一种是基于string类的方法。\n",
    "+ C风格字符串必须以空字符结尾'\\0',因此在确定存储字符串所需最短数组时，需要将结尾的空字符计算在内。\n",
    "+ string类。使用必须包含头文件string"
   ]
  },
  {
   "cell_type": "markdown",
   "metadata": {},
   "source": [
    "+ 字符串常量(使用双引号)不能与字符常量(使用单引号)互换\n",
    "+ C++允许拼接字符串字面值，即将两个用引号括起来的字符串合并为一个。拼接时被连接的字符串之间不会添加空格。\n",
    "+ 字符串输入：\n",
    "  1. cin使用空白(空格、制表符和换行符)来确定字符串的结束位置。\n",
    "  2. getline()函数读取整行，使用通过回车键输入的换行符来确定输入结尾。cin.getline()有两个参数。第一个是存储数组的名称，第二个是需要读取的字符数量。getline()在读取指定数目的字符或者遇到换行符时停止读取。**在存储字符串时，使用空字符替换换行符。**\n",
    "  3. get()工作方式和getline()类似，但是并非读取且丢失换行符，而是将其留在输入队列中。\n",
    "+ 字符串赋值:strcpy(charr1,charr2); //copy charr2 to charr1\n",
    "+ 字符串拼接; //append contents of charr2 to charr1"
   ]
  },
  {
   "cell_type": "markdown",
   "metadata": {},
   "source": [
    "# 4.3 string类简介\n",
    "+ 输入：cin>>\n",
    "+ 赋值：str2=str1\n",
    "+ 拼接：str3=str2+str1"
   ]
  },
  {
   "cell_type": "markdown",
   "metadata": {},
   "source": [
    "# 4.4 结构简介"
   ]
  }
 ],
 "metadata": {
  "kernelspec": {
   "display_name": "Python 3.6.2 ('d2l')",
   "language": "python",
   "name": "python3"
  },
  "language_info": {
   "name": "python",
   "version": "3.6.2"
  },
  "orig_nbformat": 4,
  "vscode": {
   "interpreter": {
    "hash": "6fbcb25ffd1e704b77e766f8f15869059d849d69d6a71e37721ac89c2bbcb90f"
   }
  }
 },
 "nbformat": 4,
 "nbformat_minor": 2
}
