{
 "cells": [
  {
   "cell_type": "markdown",
   "metadata": {},
   "source": [
    "# 前瞻\n",
    "+ 创建和使用数组\n",
    "+ 创建和使用C风格字符串\n",
    "+ 创建和使用string类字符串\n",
    "+ 使用方法getline()和get()读取字符串\n",
    "+ 混合输入字符串和数字\n",
    "+ 创建和使用结构体、共用体、枚举、指针\n",
    "+ 使用new和delete管理动态内存\n",
    "+ 创建动态数组、动态结构\n",
    "+ 自动存储、静态存储和动态存储\n",
    "+ vector和array类简介"
   ]
  },
  {
   "cell_type": "markdown",
   "metadata": {},
   "source": [
    "# 4.1 数组\n",
    "+ 数组声明格式:```typeName arrayName[arraysiez]```，arraysize必须是整型常数、const值和常量表达式，即所有值在编译时是已知的。\n",
    "+ 数组初始化规定：\n",
    "  1. 只能定义是进行初始化\n",
    "  2. 不能将一个数组赋值给另一个数组"
   ]
  },
  {
   "cell_type": "markdown",
   "metadata": {},
   "source": [
    "# 4.2 字符串\n",
    "C++处理字符串的方式有两种。第一种是C风格字符串，另一种是基于string类的方法。\n",
    "+ C风格字符串必须以空字符结尾'\\0',因此在确定存储字符串所需最短数组时，需要将结尾的空字符计算在内。\n",
    "+ string类。使用必须包含头文件string"
   ]
  },
  {
   "cell_type": "markdown",
   "metadata": {},
   "source": [
    "+ 字符串常量(使用双引号)不能与字符常量(使用单引号)互换\n",
    "+ C++允许拼接字符串字面值，即将两个用引号括起来的字符串合并为一个。拼接时被连接的字符串之间不会添加空格。\n",
    "+ 字符串输入：\n",
    "  1. cin使用空白(空格、制表符和换行符)来确定字符串的结束位置。\n",
    "  2. getline()函数读取整行，使用通过回车键输入的换行符来确定输入结尾。cin.getline()有两个参数。第一个是存储数组的名称，第二个是需要读取的字符数量。getline()在读取指定数目的字符或者遇到换行符时停止读取。**在存储字符串时，使用空字符替换换行符。**\n",
    "  3. get()工作方式和getline()类似，但是并非读取且丢失换行符，而是将其留在输入队列中。\n",
    "+ 字符串赋值:strcpy(charr1,charr2); //copy charr2 to charr1\n",
    "+ 字符串拼接; //append contents of charr2 to charr1"
   ]
  },
  {
   "cell_type": "markdown",
   "metadata": {},
   "source": [
    "# 4.3 string类简介\n",
    "+ 输入：cin>>\n",
    "+ 赋值：str2=str1\n",
    "+ 拼接：str3=str2+str1"
   ]
  },
  {
   "cell_type": "markdown",
   "metadata": {},
   "source": [
    "# 4.4 结构简介\n",
    "特点：同一种结构可以保存多种数据类型。\n",
    "```\n",
    "struct student\n",
    "{\n",
    "    char name[20];\n",
    "    int age;\n",
    "    float score;\n",
    "}\n",
    "student harry={\"harry\",10,2.4};\n",
    "harry.age=10;\n",
    "```\n",
    "+ 成员赋值：将一种结构直接赋值给另外一个结构\n",
    "+ 结构中的位字段\n",
    "  ```\n",
    "  struct student\n",
    "  {\n",
    "    unsigned int SN:4; //4位SN\n",
    "    unsigned int :4;//4位不使用\n",
    "    bool good :1; //1位good\n",
    "  }\n",
    "  ```"
   ]
  },
  {
   "cell_type": "markdown",
   "metadata": {},
   "source": [
    "# 4.5 共用体\n",
    "+ 特点：一次只保存一种类型的值。\n",
    "+ 共用体的存储空间长度是最大成员的长度。\n",
    "```\n",
    "union one4all\n",
    "{\n",
    "    int int_val;\n",
    "    long long_val;\n",
    "    double double_val;\n",
    "}\n",
    "one4all val;\n",
    "val.int_val=4; //store an int\n",
    "val.long_val;//store an long ,int is lost\n",
    "```"
   ]
  },
  {
   "cell_type": "markdown",
   "metadata": {},
   "source": [
    "# 4.6 枚举\n",
    "```\n",
    "enum color{red,orange,yellow,green,blue,violet};\n",
    "color band;\n",
    "band=blue;\n",
    "band=color(3);\n",
    "```\n",
    "+ 设置枚举量的值\n",
    "  -  默认情况下，将整数值赋给枚举量，第一个枚举量的值为0\n",
    "  -  可以使用赋值运算符来显示设置枚举量的值\n",
    "  -  指定的值必须是整数\n",
    "  -  ```enum bits{one=1,ten=10,eleven}//eleven=11\"\n",
    "+ 枚举的取值范围\n",
    "```\n",
    "enum bits={one=1,two=2,four=4,eight=8}\n",
    "bits myflag;\n",
    "myflag=bits(6);\n",
    "```\n",
    "其中6不是枚举值，但它位于枚举定义的取值范围内。取值范围的定义如下。首先，要找出上限，需要知道枚举量的最大值。找到大于这个最大值的、最小的2的幂，将它减去1，得到的便是取值范围的上限。例如，前面定义的bigstep 的最大值枚举值是101。\n",
    "在2的幂中，比这个数大的最小值为128，因此取值范围的上限为127。 要计算下限，需要知道枚举量的最\n",
    "小值。如果它不小于0，则取值范围的下限为0;否则，采用与寻找上限方式相同的方式，但加上负号。例\n",
    "如，如果最小的枚举量为-6，而比它小的、最大的2的幂是-8 (加上负号)，因此下限为-7。\n"
   ]
  },
  {
   "cell_type": "markdown",
   "metadata": {},
   "source": [
    "# 4.7 指针\n",
    "+ 指针是一个变量，存储的是值的地址。\n",
    "+ 指针声明时必须指定指针指向的数据类型。因为不同类型的数据使用的字节数是不同的，存储值时使用的内部格式也不同。声明类型之后，这样才能解除指针后确定需要多少空间。例如double类型指针，需要从首地址开始计算8个字节的数据，而int类型只需要4个字节。\n",
    "+ <font color=red>指针所占用的空间与指针指向的内容和内容大小无关。不同的操作系统及编译环境下，指针所占用的字节数是不同的</font>\n",
    "  + 16位代码，指针占2个字节\n",
    "  + 32位代码，4个字节\n",
    "  + 64位代码，8个字节\n",
    "+ 指针与整数是不同的类型，因此```int *pt; pt=0xb8000000;```是错误的。如需转换必须添加强制类型转换.```int *pt; pt=(int *)0xb8000000;```"
   ]
  },
  {
   "cell_type": "markdown",
   "metadata": {},
   "source": [
    "使用new来分配内存\n",
    "好处：在运行阶段分配未命名的内存以存储值\n",
    "```\n",
    "int *pn=new int;\n",
    "```\n",
    "上下两种情况的对比：pn和pt都是将一个int变量的地址赋给指针。但是上面情况只能通过指针访问数据，下面情况可以通过higgens访问数据。\n",
    "```\n",
    "int higgens;\n",
    "int *pt=&higgens;\n",
    "```"
   ]
  },
  {
   "cell_type": "markdown",
   "metadata": {},
   "source": [
    "new分配的内存块通常与常规变量声明分配的内存块不同。变量值存储在栈(stack)的内存中，而new从堆(heap)或自由存储区(free store)的内存区域分配内存。"
   ]
  },
  {
   "cell_type": "markdown",
   "metadata": {},
   "source": [
    "使用new创建动态数组\n",
    "```\n",
    "int *psome=new int [10];\n",
    "delete [] psome;\n",
    "```\n",
    " "
   ]
  },
  {
   "cell_type": "markdown",
   "metadata": {},
   "source": [
    "# 4.8 指针、数组与指针算术"
   ]
  },
  {
   "cell_type": "markdown",
   "metadata": {},
   "source": [
    "+ 将指针变量加1后，其增加的值等于指向的类型占用的字节数。\n",
    "+ 对数组应用sizeof运算符得到的是数组的长度，而对指针应用sizeof得到的是指针的长度\n",
    "+ 对数组取地址时，数组名不会解释为其地址。而是对数组名应用地址运算符时，得到的是整个数组的地址。\n",
    "```\n",
    "short tell[10];\n",
    "cout<<tell<<endl;\n",
    "cout<<&tell<<endl;\n",
    "```\n",
    "  + 从数值上说，两者的值一模一样\n",
    "  + 从概念上说，tell(&tell[0])是一个2字节内存块的地址，而&tell是一个20字节内存块的地址。\n",
    "  + 因此进行运算时，tell+1是将地址值加2，而&tell+1则是将地址加10\n",
    "  + 将指向同一数组不同元素的两个指针相减，得到的是元素之间的间距"
   ]
  },
  {
   "cell_type": "markdown",
   "metadata": {},
   "source": [
    "数组的动态编译和静态编译\n",
    "```\n",
    "int tacos[10];\n",
    "int size;\n",
    "cin>>size;\n",
    "int * pz=new int [size];\n",
    "delete [] pz;\n",
    "```"
   ]
  },
  {
   "cell_type": "markdown",
   "metadata": {},
   "source": [
    "C++管理内存的方式\n",
    "+ 自动存储\n",
    "  + 在函数内部定义的常规变量使用自动存储空间，被称为自动变量。\n",
    "  + 在所属函数被调用时自动产生，在函数结束时消亡\n",
    "  + 自动变量是一个局部变量，其作用域为包含它的代码块\n",
    "  + 自动存储通常存储在栈中。\n",
    "+ 静态存储\n",
    "  + 静态存储是整个程序执行期间都存在的存储方式\n",
    "  + 声明静态变量的方式有两种：一种是在函数外面定义；另一种是在声明变量时使用关键字static\n",
    "+ 动态存储\n",
    "<div align=center>\n",
    "<img src=./img/chapter04/1.png>\n",
    "</div>"
   ]
  },
  {
   "cell_type": "markdown",
   "metadata": {},
   "source": [
    "# 4.10 vector和array"
   ]
  }
 ],
 "metadata": {
  "kernelspec": {
   "display_name": "Python 3.6.2 ('d2l')",
   "language": "python",
   "name": "python3"
  },
  "language_info": {
   "name": "python",
   "version": "3.6.2"
  },
  "orig_nbformat": 4,
  "vscode": {
   "interpreter": {
    "hash": "6fbcb25ffd1e704b77e766f8f15869059d849d69d6a71e37721ac89c2bbcb90f"
   }
  }
 },
 "nbformat": 4,
 "nbformat_minor": 2
}
