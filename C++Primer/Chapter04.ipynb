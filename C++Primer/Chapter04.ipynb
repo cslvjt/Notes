{
 "cells": [
  {
   "cell_type": "markdown",
   "metadata": {},
   "source": [
    "# 前瞻\n",
    "+ 创建和使用数组\n",
    "+ 创建和使用C风格字符串\n",
    "+ 创建和使用string类字符串\n",
    "+ 使用方法getline()和get()读取字符串\n",
    "+ 混合输入字符串和数字\n",
    "+ 创建和使用结构体、共用体、枚举、指针\n",
    "+ 使用new和delete管理动态内存\n",
    "+ 创建动态数组、动态结构\n",
    "+ 自动存储、静态存储和动态存储\n",
    "+ vector和array类简介"
   ]
  },
  {
   "cell_type": "markdown",
   "metadata": {},
   "source": [
    "# 4.1 数组\n",
    "+ 数组声明格式:```typeName arrayName[arraysiez]```，arraysize必须是整型常数、const值和常量表达式，即所有值在编译时是已知的。\n",
    "+ 数组初始化规定：\n",
    "  1. 只能定义是进行初始化\n",
    "  2. 不能将一个数组赋值给另一个数组"
   ]
  },
  {
   "cell_type": "markdown",
   "metadata": {},
   "source": [
    "# 4.2 字符串\n",
    "C++处理字符串的方式有两种。第一种是C风格字符串，另一种是基于string类的方法。\n",
    "+ C风格字符串必须以空字符结尾'\\0',因此在确定存储字符串所需最短数组时，需要将结尾的空字符计算在内。"
   ]
  },
  {
   "cell_type": "markdown",
   "metadata": {},
   "source": [
    "字符串常量(使用双引号)不能与字符常量(使用单引号)互换"
   ]
  }
 ],
 "metadata": {
  "kernelspec": {
   "display_name": "Python 3.6.2 ('d2l')",
   "language": "python",
   "name": "python3"
  },
  "language_info": {
   "name": "python",
   "version": "3.6.2"
  },
  "orig_nbformat": 4,
  "vscode": {
   "interpreter": {
    "hash": "6fbcb25ffd1e704b77e766f8f15869059d849d69d6a71e37721ac89c2bbcb90f"
   }
  }
 },
 "nbformat": 4,
 "nbformat_minor": 2
}
