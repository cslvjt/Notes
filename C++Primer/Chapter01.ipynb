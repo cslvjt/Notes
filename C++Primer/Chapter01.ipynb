{
 "cells": [
  {
   "cell_type": "markdown",
   "metadata": {},
   "source": [
    "# 1.1 C++简介\n",
    "C++融合了3种不同的编程方式:C语言代表的面向过程语言、C++在C语言基础上添加的类代表的面向对象语言、C++模板支持的泛型编程。\n",
    "\n"
   ]
  },
  {
   "cell_type": "markdown",
   "metadata": {},
   "source": [
    "# 1.2 C++简史\n",
    "\n",
    "+ 面向过程，也就是结构化程序设计是一种自顶向下逐步求精的设计方法，将大型程序分解为小型、便于管理的任务，使用的时候一个一个依次调用就可以了。\n",
    "+ 面向对象OOP是对data和operation的封装，是对同类事物的抽象，跟结构化编程相比它更接近自然语言\n",
    "+ 泛型编程是对class和operation的抽象，对class的抽象可以说是对interface的抽象，而operation抽象则是对具有同一interface的class的operation的抽象。\n",
    "\n",
    "\n",
    "什么是类，什么是对象？\n",
    "\n",
    "类是描述事物的基本特征属性，对象是具体的事物。例如：人是一类，具有肤色、年龄、性别等属性，对象指具体的人，如川普。\n",
    "\n",
    "泛型编程和OOP区别？\n",
    "\n",
    "OOP强调的是编程的数据，指以数据为中心。而泛型编程则是以操作为中心。例如STL中vector，任何类型数据都可以，关键是对数据的操作。"
   ]
  },
  {
   "cell_type": "markdown",
   "metadata": {},
   "source": [
    "# 1.4 程序创建过程\n",
    "<div align=center><img src=./img/chapter01/1.png></div>\n",
    "\n",
    "1. 使用文本编辑器编写源代码\n",
    "2. 编译源代码。xx.cpp文件通过编译器转化为目标程序xx.o(linux)\n",
    "3. 代码链接起来形成可执行文件"
   ]
  }
 ],
 "metadata": {
  "kernelspec": {
   "display_name": "Python ('cpp')",
   "language": "python",
   "name": "python3"
  },
  "language_info": {
   "name": "python",
   "version": ""
  },
  "orig_nbformat": 4,
  "vscode": {
   "interpreter": {
    "hash": "25a19fbe0a9132dfb9279d48d161753c6352f8f9478c2e74383d340069b907c3"
   }
  }
 },
 "nbformat": 4,
 "nbformat_minor": 2
}
