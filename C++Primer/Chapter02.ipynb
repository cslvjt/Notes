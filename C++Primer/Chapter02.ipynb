{
 "cells": [
  {
   "cell_type": "markdown",
   "metadata": {},
   "source": [
    "# 前瞻\n",
    "+ 创建C++程序。\n",
    "+ C++程序的一般格式。\n",
    "+ #include编译指令。\n",
    "+ main()函数。\n",
    "+ 使用cout对象进行输出。\n",
    "+ 在C++程序中加入注释。\n",
    "+ 何时以及如何使用endl。\n",
    "+ 声明和使用变量。\n",
    "+ 使用cin对象进行输入。\n",
    "+ 定义和使用简单函数。\n"
   ]
  },
  {
   "cell_type": "markdown",
   "metadata": {},
   "source": [
    "## #include编译指令\n",
    "\n",
    "该编译指令导致预处理器将iostream文件的内容添加到程序中。这是一种典型的预处理器操作:在源代码被编译之前，替换或添加文本。\n",
    "\n",
    "编译指令导致iostream文件的内容随源代码文件的内容一起被发送给**编译器**。实际上，iostream文件的内容将取代程序中的代码行#include <iostream>。原始文件没有被修改，而是将源代码文件和iostream组合成一个复合文件，编译的下一阶段将使用该文件。\n"
   ]
  },
  {
   "cell_type": "markdown",
   "metadata": {},
   "source": [
    "## 名称空间\n",
    "```using namespace std;```\n",
    "\n",
    "称为using 编译指令。(第九章详细介绍)\n",
    "\n",
    "+ 为什么会出现这个东西？\n",
    "一个潜在的问题是，可能使用两个己封装好的产品，而它们都包含一个名为wanda()的函数。这样，使用wanda()函数时，编译器将不知道指的是哪个版本。名称空间让厂商能够将其产品封装在一个叫做名称空间的单元中,这样就可以用名称空间的名称来指出想使用哪个厂商的产品。\n",
    "因此，Microflop Industries 可以将其定义放到一个名为Microflop的名称空间中。这样，其wanda()函数的全称为Microflop::wanda(); 同样，Piscine 公司的wanda()版本可以表示为Piscine::wanda()。 这样，程序就可以使用名称空间来区分不同的版本了。\n",
    "\n",
    "这样的话使用任何函数都需要指定命名空间，这样很麻烦。于是using编译指令应运而生。```using namespace std```这行代码表明可以使用std名称空间中定义的名称而不需要添加std::前缀。"
   ]
  }
 ],
 "metadata": {
  "kernelspec": {
   "display_name": "Python 3.6.2 ('pytorch')",
   "language": "python",
   "name": "python3"
  },
  "language_info": {
   "name": "python",
   "version": "3.6.2"
  },
  "orig_nbformat": 4,
  "vscode": {
   "interpreter": {
    "hash": "1be8e1e697be24aa51be46f7515f4d96c6005120fc689094ce96895b044c9b1b"
   }
  }
 },
 "nbformat": 4,
 "nbformat_minor": 2
}
