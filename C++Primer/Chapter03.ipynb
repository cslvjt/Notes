{
 "cells": [
  {
   "cell_type": "markdown",
   "metadata": {},
   "source": [
    "# 前瞻\n",
    "+ C++变量的命名规则。\n",
    "+ C++内置的整型一unsigned long、long、unsigned int、int、 unsigned short、short、char、 unsigned char、signed char和bool。\n",
    "+ C++11新增的整型: unsigned long long和long long。\n",
    "+ 表示各种整型的系统限制的climits文件。\n",
    "+ 各种整型的数字字面值(常量)。\n",
    "+ 使用const限定符来创建符号常量。\n",
    "+ C++内置的浮点类型: float、 double 和long double。\n",
    "+ 表示各种浮点类型的系统限制的cfloat文件。\n",
    "+ 各种浮点类型的数字字面值。\n",
    "+ C++的算术运算符。\n",
    "+ 自动类型转换。\n",
    "+ 强制类型转换。"
   ]
  },
  {
   "cell_type": "markdown",
   "metadata": {},
   "source": [
    "内置的C++类型分为两组：基本类型(整数和浮点数)和复合类型(数组、字符串、指针、结构)"
   ]
  },
  {
   "cell_type": "markdown",
   "metadata": {},
   "source": [
    "C++命名规则：\n",
    "+ 在名称中只能使用字母字符、数字和下划线(_ )。\n",
    "+ 名称的第一一个字符不能是数字。\n",
    "+ 区分大写字符与小写字符。\n",
    "+ 不能将C++关键字用作名称。\n"
   ]
  },
  {
   "cell_type": "markdown",
   "metadata": {},
   "source": [
    "C++整数取值范围\n",
    "<div align=center><img src=./img/chapter03/1.png></div>"
   ]
  },
  {
   "cell_type": "markdown",
   "metadata": {},
   "source": [
    "整型溢出\n",
    "<div align=center><img src=./img/chapter03/2.png></div>"
   ]
  }
 ],
 "metadata": {
  "kernelspec": {
   "display_name": "Python 3.6.2 ('pytorch')",
   "language": "python",
   "name": "python3"
  },
  "language_info": {
   "name": "python",
   "version": "3.6.2"
  },
  "orig_nbformat": 4,
  "vscode": {
   "interpreter": {
    "hash": "1be8e1e697be24aa51be46f7515f4d96c6005120fc689094ce96895b044c9b1b"
   }
  }
 },
 "nbformat": 4,
 "nbformat_minor": 2
}
