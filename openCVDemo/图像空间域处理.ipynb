{
 "cells": [
  {
   "cell_type": "markdown",
   "metadata": {},
   "source": [
    "# 获取图像直方图"
   ]
  },
  {
   "cell_type": "code",
   "execution_count": 7,
   "metadata": {},
   "outputs": [
    {
     "data": {
      "image/png": "[encoded data removed]",
      "text/plain": [
       "<Figure size 432x288 with 1 Axes>"
      ]
     },
     "metadata": {
      "needs_background": "light"
     },
     "output_type": "display_data"
    }
   ],
   "source": [
    "#encoding:utf-8\n",
    "import cv2  \n",
    "import numpy as np\n",
    "import matplotlib.pyplot as plt\n",
    "\n",
    "src = cv2.imread('junheng.jpg')\n",
    "plt.hist(src.ravel(), 256)\n",
    "plt.show()"
   ]
  },
  {
   "cell_type": "markdown",
   "metadata": {},
   "source": [
    "# 直方图归一化"
   ]
  },
  {
   "cell_type": "code",
   "execution_count": 8,
   "metadata": {},
   "outputs": [
    {
     "name": "stderr",
     "output_type": "stream",
     "text": [
      "D:\\anaconda\\envs\\torch\\lib\\site-packages\\ipykernel_launcher.py:10: VisibleDeprecationWarning: Passing `normed=True` on non-uniform bins has always been broken, and computes neither the probability density function nor the probability mass function. The result is only correct if the bins are uniform, when density=True will produce the same result anyway. The argument will be removed in a future version of numpy.\n",
      "  # Remove the CWD from sys.path while we load stuff.\n"
     ]
    }
   ],
   "source": [
    "from PIL import Image\n",
    "from pylab import *\n",
    "from numpy import *\n",
    "\n",
    "\n",
    "def histeq(im, nbr_bins=256):\n",
    "    \"\"\"对一幅灰度图像进行直方图均衡化\"\"\"\n",
    "    # 计算图像的直方图\n",
    "    # 在numpy中，也提供了一个计算直方图的函数histogram(),第一个返回的是直方图的统计量，第二个为每个bins的中间值\n",
    "    imhist, bins = histogram(im.flatten(), nbr_bins, normed=True)\n",
    "    cdf = imhist.cumsum()   #\n",
    "    cdf = 255.0 * cdf / cdf[-1]\n",
    "    # 使用累积分布函数的线性插值，计算新的像素值\n",
    "    im2 = interp(im.flatten(), bins[:-1], cdf)\n",
    "    return im2.reshape(im.shape), cdf\n",
    "\n",
    "\n",
    "im = array(Image.open('img\\space\\lena.jpg').convert('L'))\n",
    "im2, cdf = histeq(im)\n",
    "\n",
    "im2 = Image.fromarray(uint8(im2))\n",
    "im2.show()\n",
    "# print(cdf)\n",
    "# plt.plot(cdf)\n",
    "# im2.save(\"junheng.jpg\")\n"
   ]
  }
 ],
 "metadata": {
  "interpreter": {
   "hash": "8c0d8dfaf6a7fb4d6df79c3eeeb9d072c60b2f8d57beb74a7d49398d3aae5815"
  },
  "kernelspec": {
   "display_name": "Python 3.6.13 ('torch')",
   "language": "python",
   "name": "python3"
  },
  "language_info": {
   "codemirror_mode": {
    "name": "ipython",
    "version": 3
   },
   "file_extension": ".py",
   "mimetype": "text/x-python",
   "name": "python",
   "nbconvert_exporter": "python",
   "pygments_lexer": "ipython3",
   "version": "3.6.13"
  },
  "orig_nbformat": 4
 },
 "nbformat": 4,
 "nbformat_minor": 2
}
